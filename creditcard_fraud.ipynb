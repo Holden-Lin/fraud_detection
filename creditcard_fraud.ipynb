{
 "cells": [
  {
   "cell_type": "markdown",
   "metadata": {},
   "source": [
    "**<font size=\"6\" color='darkgreen'>Kaggle Credit Card Fraud Dataset</font>**<br>\n",
    "<br>\n",
    "<font size=5>We use an open-source [dataset](https://www.kaggle.com/mlg-ulb/creditcardfraud) from Kaggle.<font>"
   ]
  },
  {
   "cell_type": "markdown",
   "metadata": {},
   "source": [
    "# Split Datasets"
   ]
  },
  {
   "cell_type": "code",
   "execution_count": 2,
   "metadata": {},
   "outputs": [],
   "source": [
    "import pandas as pd \n",
    "import numpy as np\n",
    "# import some models\n",
    "from sklearn.linear_model import LogisticRegression\n",
    "from sklearn.model_selection import train_test_split\n",
    "from tensorflow import keras\n",
    "\n",
    "# import evaluation metrics\n",
    "from sklearn.metrics import roc_auc_score\n",
    "from sklearn.metrics import f1_score\n",
    "from sklearn.metrics import recall_score\n",
    "from sklearn.metrics import precision_score\n",
    "from sklearn.metrics import confusion_matrix\n",
    "\n",
    "# plot some metrics\n",
    "from sklearn.metrics import precision_recall_curve \n",
    "from sklearn.metrics import roc_curve\n",
    "\n",
    "import matplotlib.pyplot as plt\n",
    "%matplotlib notebook"
   ]
  },
  {
   "cell_type": "code",
   "execution_count": 3,
   "metadata": {
    "scrolled": true
   },
   "outputs": [
    {
     "name": "stdout",
     "output_type": "stream",
     "text": [
      "The number of example of this dataset is: 284807\n"
     ]
    },
    {
     "data": {
      "text/html": [
       "<div>\n",
       "<style scoped>\n",
       "    .dataframe tbody tr th:only-of-type {\n",
       "        vertical-align: middle;\n",
       "    }\n",
       "\n",
       "    .dataframe tbody tr th {\n",
       "        vertical-align: top;\n",
       "    }\n",
       "\n",
       "    .dataframe thead th {\n",
       "        text-align: right;\n",
       "    }\n",
       "</style>\n",
       "<table border=\"1\" class=\"dataframe\">\n",
       "  <thead>\n",
       "    <tr style=\"text-align: right;\">\n",
       "      <th></th>\n",
       "      <th>Time</th>\n",
       "      <th>V1</th>\n",
       "      <th>V2</th>\n",
       "      <th>V3</th>\n",
       "      <th>V4</th>\n",
       "      <th>V5</th>\n",
       "      <th>V6</th>\n",
       "      <th>V7</th>\n",
       "      <th>V8</th>\n",
       "      <th>V9</th>\n",
       "      <th>...</th>\n",
       "      <th>V21</th>\n",
       "      <th>V22</th>\n",
       "      <th>V23</th>\n",
       "      <th>V24</th>\n",
       "      <th>V25</th>\n",
       "      <th>V26</th>\n",
       "      <th>V27</th>\n",
       "      <th>V28</th>\n",
       "      <th>Amount</th>\n",
       "      <th>Class</th>\n",
       "    </tr>\n",
       "  </thead>\n",
       "  <tbody>\n",
       "    <tr>\n",
       "      <th>284802</th>\n",
       "      <td>172786.0</td>\n",
       "      <td>-11.881118</td>\n",
       "      <td>10.071785</td>\n",
       "      <td>-9.834783</td>\n",
       "      <td>-2.066656</td>\n",
       "      <td>-5.364473</td>\n",
       "      <td>-2.606837</td>\n",
       "      <td>-4.918215</td>\n",
       "      <td>7.305334</td>\n",
       "      <td>1.914428</td>\n",
       "      <td>...</td>\n",
       "      <td>0.213454</td>\n",
       "      <td>0.111864</td>\n",
       "      <td>1.014480</td>\n",
       "      <td>-0.509348</td>\n",
       "      <td>1.436807</td>\n",
       "      <td>0.250034</td>\n",
       "      <td>0.943651</td>\n",
       "      <td>0.823731</td>\n",
       "      <td>0.77</td>\n",
       "      <td>0</td>\n",
       "    </tr>\n",
       "    <tr>\n",
       "      <th>284803</th>\n",
       "      <td>172787.0</td>\n",
       "      <td>-0.732789</td>\n",
       "      <td>-0.055080</td>\n",
       "      <td>2.035030</td>\n",
       "      <td>-0.738589</td>\n",
       "      <td>0.868229</td>\n",
       "      <td>1.058415</td>\n",
       "      <td>0.024330</td>\n",
       "      <td>0.294869</td>\n",
       "      <td>0.584800</td>\n",
       "      <td>...</td>\n",
       "      <td>0.214205</td>\n",
       "      <td>0.924384</td>\n",
       "      <td>0.012463</td>\n",
       "      <td>-1.016226</td>\n",
       "      <td>-0.606624</td>\n",
       "      <td>-0.395255</td>\n",
       "      <td>0.068472</td>\n",
       "      <td>-0.053527</td>\n",
       "      <td>24.79</td>\n",
       "      <td>0</td>\n",
       "    </tr>\n",
       "    <tr>\n",
       "      <th>284804</th>\n",
       "      <td>172788.0</td>\n",
       "      <td>1.919565</td>\n",
       "      <td>-0.301254</td>\n",
       "      <td>-3.249640</td>\n",
       "      <td>-0.557828</td>\n",
       "      <td>2.630515</td>\n",
       "      <td>3.031260</td>\n",
       "      <td>-0.296827</td>\n",
       "      <td>0.708417</td>\n",
       "      <td>0.432454</td>\n",
       "      <td>...</td>\n",
       "      <td>0.232045</td>\n",
       "      <td>0.578229</td>\n",
       "      <td>-0.037501</td>\n",
       "      <td>0.640134</td>\n",
       "      <td>0.265745</td>\n",
       "      <td>-0.087371</td>\n",
       "      <td>0.004455</td>\n",
       "      <td>-0.026561</td>\n",
       "      <td>67.88</td>\n",
       "      <td>0</td>\n",
       "    </tr>\n",
       "    <tr>\n",
       "      <th>284805</th>\n",
       "      <td>172788.0</td>\n",
       "      <td>-0.240440</td>\n",
       "      <td>0.530483</td>\n",
       "      <td>0.702510</td>\n",
       "      <td>0.689799</td>\n",
       "      <td>-0.377961</td>\n",
       "      <td>0.623708</td>\n",
       "      <td>-0.686180</td>\n",
       "      <td>0.679145</td>\n",
       "      <td>0.392087</td>\n",
       "      <td>...</td>\n",
       "      <td>0.265245</td>\n",
       "      <td>0.800049</td>\n",
       "      <td>-0.163298</td>\n",
       "      <td>0.123205</td>\n",
       "      <td>-0.569159</td>\n",
       "      <td>0.546668</td>\n",
       "      <td>0.108821</td>\n",
       "      <td>0.104533</td>\n",
       "      <td>10.00</td>\n",
       "      <td>0</td>\n",
       "    </tr>\n",
       "    <tr>\n",
       "      <th>284806</th>\n",
       "      <td>172792.0</td>\n",
       "      <td>-0.533413</td>\n",
       "      <td>-0.189733</td>\n",
       "      <td>0.703337</td>\n",
       "      <td>-0.506271</td>\n",
       "      <td>-0.012546</td>\n",
       "      <td>-0.649617</td>\n",
       "      <td>1.577006</td>\n",
       "      <td>-0.414650</td>\n",
       "      <td>0.486180</td>\n",
       "      <td>...</td>\n",
       "      <td>0.261057</td>\n",
       "      <td>0.643078</td>\n",
       "      <td>0.376777</td>\n",
       "      <td>0.008797</td>\n",
       "      <td>-0.473649</td>\n",
       "      <td>-0.818267</td>\n",
       "      <td>-0.002415</td>\n",
       "      <td>0.013649</td>\n",
       "      <td>217.00</td>\n",
       "      <td>0</td>\n",
       "    </tr>\n",
       "  </tbody>\n",
       "</table>\n",
       "<p>5 rows × 31 columns</p>\n",
       "</div>"
      ],
      "text/plain": [
       "            Time         V1         V2        V3        V4        V5  \\\n",
       "284802  172786.0 -11.881118  10.071785 -9.834783 -2.066656 -5.364473   \n",
       "284803  172787.0  -0.732789  -0.055080  2.035030 -0.738589  0.868229   \n",
       "284804  172788.0   1.919565  -0.301254 -3.249640 -0.557828  2.630515   \n",
       "284805  172788.0  -0.240440   0.530483  0.702510  0.689799 -0.377961   \n",
       "284806  172792.0  -0.533413  -0.189733  0.703337 -0.506271 -0.012546   \n",
       "\n",
       "              V6        V7        V8        V9  ...       V21       V22  \\\n",
       "284802 -2.606837 -4.918215  7.305334  1.914428  ...  0.213454  0.111864   \n",
       "284803  1.058415  0.024330  0.294869  0.584800  ...  0.214205  0.924384   \n",
       "284804  3.031260 -0.296827  0.708417  0.432454  ...  0.232045  0.578229   \n",
       "284805  0.623708 -0.686180  0.679145  0.392087  ...  0.265245  0.800049   \n",
       "284806 -0.649617  1.577006 -0.414650  0.486180  ...  0.261057  0.643078   \n",
       "\n",
       "             V23       V24       V25       V26       V27       V28  Amount  \\\n",
       "284802  1.014480 -0.509348  1.436807  0.250034  0.943651  0.823731    0.77   \n",
       "284803  0.012463 -1.016226 -0.606624 -0.395255  0.068472 -0.053527   24.79   \n",
       "284804 -0.037501  0.640134  0.265745 -0.087371  0.004455 -0.026561   67.88   \n",
       "284805 -0.163298  0.123205 -0.569159  0.546668  0.108821  0.104533   10.00   \n",
       "284806  0.376777  0.008797 -0.473649 -0.818267 -0.002415  0.013649  217.00   \n",
       "\n",
       "        Class  \n",
       "284802      0  \n",
       "284803      0  \n",
       "284804      0  \n",
       "284805      0  \n",
       "284806      0  \n",
       "\n",
       "[5 rows x 31 columns]"
      ]
     },
     "execution_count": 3,
     "metadata": {},
     "output_type": "execute_result"
    }
   ],
   "source": [
    "df = pd.read_csv(\"creditcard.csv\")\n",
    "\n",
    "print(\"The number of example of this dataset is:\", len(df.iloc[:,1]))\n",
    "df.tail()"
   ]
  },
  {
   "cell_type": "markdown",
   "metadata": {},
   "source": [
    "**<font color='green' size=3>For column of *Time* and *amount* were applied no PCA, I would like to manually scaled them to make the data comparable and also make gradient descent trained faster in neural network below<font>**"
   ]
  },
  {
   "cell_type": "code",
   "execution_count": 4,
   "metadata": {},
   "outputs": [
    {
     "data": {
      "text/html": [
       "<div>\n",
       "<style scoped>\n",
       "    .dataframe tbody tr th:only-of-type {\n",
       "        vertical-align: middle;\n",
       "    }\n",
       "\n",
       "    .dataframe tbody tr th {\n",
       "        vertical-align: top;\n",
       "    }\n",
       "\n",
       "    .dataframe thead th {\n",
       "        text-align: right;\n",
       "    }\n",
       "</style>\n",
       "<table border=\"1\" class=\"dataframe\">\n",
       "  <thead>\n",
       "    <tr style=\"text-align: right;\">\n",
       "      <th></th>\n",
       "      <th>scaled_amount</th>\n",
       "      <th>scaled_time</th>\n",
       "      <th>V1</th>\n",
       "      <th>V2</th>\n",
       "      <th>V3</th>\n",
       "      <th>V4</th>\n",
       "      <th>V5</th>\n",
       "      <th>V6</th>\n",
       "      <th>V7</th>\n",
       "      <th>V8</th>\n",
       "      <th>...</th>\n",
       "      <th>V20</th>\n",
       "      <th>V21</th>\n",
       "      <th>V22</th>\n",
       "      <th>V23</th>\n",
       "      <th>V24</th>\n",
       "      <th>V25</th>\n",
       "      <th>V26</th>\n",
       "      <th>V27</th>\n",
       "      <th>V28</th>\n",
       "      <th>Class</th>\n",
       "    </tr>\n",
       "  </thead>\n",
       "  <tbody>\n",
       "    <tr>\n",
       "      <th>0</th>\n",
       "      <td>1.783274</td>\n",
       "      <td>-0.994983</td>\n",
       "      <td>-1.359807</td>\n",
       "      <td>-0.072781</td>\n",
       "      <td>2.536347</td>\n",
       "      <td>1.378155</td>\n",
       "      <td>-0.338321</td>\n",
       "      <td>0.462388</td>\n",
       "      <td>0.239599</td>\n",
       "      <td>0.098698</td>\n",
       "      <td>...</td>\n",
       "      <td>0.251412</td>\n",
       "      <td>-0.018307</td>\n",
       "      <td>0.277838</td>\n",
       "      <td>-0.110474</td>\n",
       "      <td>0.066928</td>\n",
       "      <td>0.128539</td>\n",
       "      <td>-0.189115</td>\n",
       "      <td>0.133558</td>\n",
       "      <td>-0.021053</td>\n",
       "      <td>0</td>\n",
       "    </tr>\n",
       "    <tr>\n",
       "      <th>1</th>\n",
       "      <td>-0.269825</td>\n",
       "      <td>-0.994983</td>\n",
       "      <td>1.191857</td>\n",
       "      <td>0.266151</td>\n",
       "      <td>0.166480</td>\n",
       "      <td>0.448154</td>\n",
       "      <td>0.060018</td>\n",
       "      <td>-0.082361</td>\n",
       "      <td>-0.078803</td>\n",
       "      <td>0.085102</td>\n",
       "      <td>...</td>\n",
       "      <td>-0.069083</td>\n",
       "      <td>-0.225775</td>\n",
       "      <td>-0.638672</td>\n",
       "      <td>0.101288</td>\n",
       "      <td>-0.339846</td>\n",
       "      <td>0.167170</td>\n",
       "      <td>0.125895</td>\n",
       "      <td>-0.008983</td>\n",
       "      <td>0.014724</td>\n",
       "      <td>0</td>\n",
       "    </tr>\n",
       "    <tr>\n",
       "      <th>2</th>\n",
       "      <td>4.983721</td>\n",
       "      <td>-0.994972</td>\n",
       "      <td>-1.358354</td>\n",
       "      <td>-1.340163</td>\n",
       "      <td>1.773209</td>\n",
       "      <td>0.379780</td>\n",
       "      <td>-0.503198</td>\n",
       "      <td>1.800499</td>\n",
       "      <td>0.791461</td>\n",
       "      <td>0.247676</td>\n",
       "      <td>...</td>\n",
       "      <td>0.524980</td>\n",
       "      <td>0.247998</td>\n",
       "      <td>0.771679</td>\n",
       "      <td>0.909412</td>\n",
       "      <td>-0.689281</td>\n",
       "      <td>-0.327642</td>\n",
       "      <td>-0.139097</td>\n",
       "      <td>-0.055353</td>\n",
       "      <td>-0.059752</td>\n",
       "      <td>0</td>\n",
       "    </tr>\n",
       "    <tr>\n",
       "      <th>3</th>\n",
       "      <td>1.418291</td>\n",
       "      <td>-0.994972</td>\n",
       "      <td>-0.966272</td>\n",
       "      <td>-0.185226</td>\n",
       "      <td>1.792993</td>\n",
       "      <td>-0.863291</td>\n",
       "      <td>-0.010309</td>\n",
       "      <td>1.247203</td>\n",
       "      <td>0.237609</td>\n",
       "      <td>0.377436</td>\n",
       "      <td>...</td>\n",
       "      <td>-0.208038</td>\n",
       "      <td>-0.108300</td>\n",
       "      <td>0.005274</td>\n",
       "      <td>-0.190321</td>\n",
       "      <td>-1.175575</td>\n",
       "      <td>0.647376</td>\n",
       "      <td>-0.221929</td>\n",
       "      <td>0.062723</td>\n",
       "      <td>0.061458</td>\n",
       "      <td>0</td>\n",
       "    </tr>\n",
       "    <tr>\n",
       "      <th>4</th>\n",
       "      <td>0.670579</td>\n",
       "      <td>-0.994960</td>\n",
       "      <td>-1.158233</td>\n",
       "      <td>0.877737</td>\n",
       "      <td>1.548718</td>\n",
       "      <td>0.403034</td>\n",
       "      <td>-0.407193</td>\n",
       "      <td>0.095921</td>\n",
       "      <td>0.592941</td>\n",
       "      <td>-0.270533</td>\n",
       "      <td>...</td>\n",
       "      <td>0.408542</td>\n",
       "      <td>-0.009431</td>\n",
       "      <td>0.798278</td>\n",
       "      <td>-0.137458</td>\n",
       "      <td>0.141267</td>\n",
       "      <td>-0.206010</td>\n",
       "      <td>0.502292</td>\n",
       "      <td>0.219422</td>\n",
       "      <td>0.215153</td>\n",
       "      <td>0</td>\n",
       "    </tr>\n",
       "  </tbody>\n",
       "</table>\n",
       "<p>5 rows × 31 columns</p>\n",
       "</div>"
      ],
      "text/plain": [
       "   scaled_amount  scaled_time        V1        V2        V3        V4  \\\n",
       "0       1.783274    -0.994983 -1.359807 -0.072781  2.536347  1.378155   \n",
       "1      -0.269825    -0.994983  1.191857  0.266151  0.166480  0.448154   \n",
       "2       4.983721    -0.994972 -1.358354 -1.340163  1.773209  0.379780   \n",
       "3       1.418291    -0.994972 -0.966272 -0.185226  1.792993 -0.863291   \n",
       "4       0.670579    -0.994960 -1.158233  0.877737  1.548718  0.403034   \n",
       "\n",
       "         V5        V6        V7        V8  ...       V20       V21       V22  \\\n",
       "0 -0.338321  0.462388  0.239599  0.098698  ...  0.251412 -0.018307  0.277838   \n",
       "1  0.060018 -0.082361 -0.078803  0.085102  ... -0.069083 -0.225775 -0.638672   \n",
       "2 -0.503198  1.800499  0.791461  0.247676  ...  0.524980  0.247998  0.771679   \n",
       "3 -0.010309  1.247203  0.237609  0.377436  ... -0.208038 -0.108300  0.005274   \n",
       "4 -0.407193  0.095921  0.592941 -0.270533  ...  0.408542 -0.009431  0.798278   \n",
       "\n",
       "        V23       V24       V25       V26       V27       V28  Class  \n",
       "0 -0.110474  0.066928  0.128539 -0.189115  0.133558 -0.021053      0  \n",
       "1  0.101288 -0.339846  0.167170  0.125895 -0.008983  0.014724      0  \n",
       "2  0.909412 -0.689281 -0.327642 -0.139097 -0.055353 -0.059752      0  \n",
       "3 -0.190321 -1.175575  0.647376 -0.221929  0.062723  0.061458      0  \n",
       "4 -0.137458  0.141267 -0.206010  0.502292  0.219422  0.215153      0  \n",
       "\n",
       "[5 rows x 31 columns]"
      ]
     },
     "execution_count": 4,
     "metadata": {},
     "output_type": "execute_result"
    }
   ],
   "source": [
    "from sklearn.preprocessing import StandardScaler, RobustScaler\n",
    "\n",
    "std_scaler = StandardScaler()\n",
    "rob_scaler = RobustScaler()\n",
    "\n",
    "df['scaled_amount'] = rob_scaler.fit_transform(df['Amount'].values.reshape(-1,1))\n",
    "df['scaled_time'] = rob_scaler.fit_transform(df['Time'].values.reshape(-1,1))\n",
    "\n",
    "df.drop(['Time','Amount'], axis=1, inplace=True)\n",
    "\n",
    "# for new column of scaled_amount and scaled_time are inserted in the back\n",
    "# let's move them in front for convenience processing \n",
    "cols = df.columns.tolist()\n",
    "cols = cols[-2:] + cols[:-2]\n",
    "\n",
    "df = df[cols]\n",
    "df.head()"
   ]
  },
  {
   "cell_type": "code",
   "execution_count": 5,
   "metadata": {},
   "outputs": [],
   "source": [
    "# create training and test sets\n",
    "X = df.iloc[:,:-1]\n",
    "y = df.iloc[:,-1]"
   ]
  },
  {
   "cell_type": "code",
   "execution_count": 6,
   "metadata": {},
   "outputs": [
    {
     "data": {
      "text/plain": [
       "0.001727485630620034"
      ]
     },
     "execution_count": 6,
     "metadata": {},
     "output_type": "execute_result"
    }
   ],
   "source": [
    "# ratio of posiive examples\n",
    "sum(y)/len(y)"
   ]
  },
  {
   "cell_type": "markdown",
   "metadata": {},
   "source": [
    "**<font color='green' size=3>Now we see that the dataset is extremely imbalanced with only 1~2 positive (fraud) examples in a 1000.<br>\n",
    "This means that accuracy is not a good metric to evaluate model performance, for a dummy classifier that always predict negative would has a accuracy of 99.8%<font>**\n",
    "<br>"
   ]
  },
  {
   "cell_type": "markdown",
   "metadata": {},
   "source": [
    "**<font size=3>split training and test set<font>**"
   ]
  },
  {
   "cell_type": "code",
   "execution_count": 7,
   "metadata": {},
   "outputs": [],
   "source": [
    "X_train,X_test,y_train, y_test = train_test_split(X, y.values, test_size = 0.15)"
   ]
  },
  {
   "cell_type": "code",
   "execution_count": 8,
   "metadata": {},
   "outputs": [
    {
     "name": "stdout",
     "output_type": "stream",
     "text": [
      "(242085, 30)\n",
      "(242085,)\n",
      "(42722, 30)\n"
     ]
    }
   ],
   "source": [
    "print(X_train.shape)\n",
    "print(y_train.shape)\n",
    "print(X_test.shape)"
   ]
  },
  {
   "cell_type": "code",
   "execution_count": 9,
   "metadata": {},
   "outputs": [
    {
     "data": {
      "text/html": [
       "<div>\n",
       "<style scoped>\n",
       "    .dataframe tbody tr th:only-of-type {\n",
       "        vertical-align: middle;\n",
       "    }\n",
       "\n",
       "    .dataframe tbody tr th {\n",
       "        vertical-align: top;\n",
       "    }\n",
       "\n",
       "    .dataframe thead th {\n",
       "        text-align: right;\n",
       "    }\n",
       "</style>\n",
       "<table border=\"1\" class=\"dataframe\">\n",
       "  <thead>\n",
       "    <tr style=\"text-align: right;\">\n",
       "      <th></th>\n",
       "      <th>scaled_amount</th>\n",
       "      <th>scaled_time</th>\n",
       "      <th>V1</th>\n",
       "      <th>V2</th>\n",
       "      <th>V3</th>\n",
       "      <th>V4</th>\n",
       "      <th>V5</th>\n",
       "      <th>V6</th>\n",
       "      <th>V7</th>\n",
       "      <th>V8</th>\n",
       "      <th>...</th>\n",
       "      <th>V19</th>\n",
       "      <th>V20</th>\n",
       "      <th>V21</th>\n",
       "      <th>V22</th>\n",
       "      <th>V23</th>\n",
       "      <th>V24</th>\n",
       "      <th>V25</th>\n",
       "      <th>V26</th>\n",
       "      <th>V27</th>\n",
       "      <th>V28</th>\n",
       "    </tr>\n",
       "  </thead>\n",
       "  <tbody>\n",
       "    <tr>\n",
       "      <th>132930</th>\n",
       "      <td>1.450430</td>\n",
       "      <td>-0.053032</td>\n",
       "      <td>0.904067</td>\n",
       "      <td>-0.751663</td>\n",
       "      <td>1.233878</td>\n",
       "      <td>1.505830</td>\n",
       "      <td>-0.800243</td>\n",
       "      <td>1.543892</td>\n",
       "      <td>-0.947923</td>\n",
       "      <td>0.470212</td>\n",
       "      <td>...</td>\n",
       "      <td>0.862968</td>\n",
       "      <td>0.163142</td>\n",
       "      <td>-0.014294</td>\n",
       "      <td>0.208800</td>\n",
       "      <td>-0.364486</td>\n",
       "      <td>-0.769923</td>\n",
       "      <td>0.664052</td>\n",
       "      <td>-0.184455</td>\n",
       "      <td>0.086328</td>\n",
       "      <td>0.038578</td>\n",
       "    </tr>\n",
       "    <tr>\n",
       "      <th>14285</th>\n",
       "      <td>-0.095857</td>\n",
       "      <td>-0.697095</td>\n",
       "      <td>1.169427</td>\n",
       "      <td>0.627229</td>\n",
       "      <td>0.657882</td>\n",
       "      <td>2.492571</td>\n",
       "      <td>-0.118151</td>\n",
       "      <td>-0.559891</td>\n",
       "      <td>0.240836</td>\n",
       "      <td>-0.157699</td>\n",
       "      <td>...</td>\n",
       "      <td>-0.917161</td>\n",
       "      <td>-0.102392</td>\n",
       "      <td>-0.181962</td>\n",
       "      <td>-0.587933</td>\n",
       "      <td>0.073176</td>\n",
       "      <td>0.365952</td>\n",
       "      <td>0.363419</td>\n",
       "      <td>-0.190415</td>\n",
       "      <td>-0.011471</td>\n",
       "      <td>0.028100</td>\n",
       "    </tr>\n",
       "    <tr>\n",
       "      <th>278454</th>\n",
       "      <td>-0.293440</td>\n",
       "      <td>0.981485</td>\n",
       "      <td>-0.118779</td>\n",
       "      <td>0.823002</td>\n",
       "      <td>-0.272465</td>\n",
       "      <td>-0.170451</td>\n",
       "      <td>1.132897</td>\n",
       "      <td>-1.164703</td>\n",
       "      <td>0.894431</td>\n",
       "      <td>-0.249489</td>\n",
       "      <td>...</td>\n",
       "      <td>-0.298457</td>\n",
       "      <td>-0.020675</td>\n",
       "      <td>0.156651</td>\n",
       "      <td>0.735051</td>\n",
       "      <td>-0.127435</td>\n",
       "      <td>-0.118536</td>\n",
       "      <td>-0.774914</td>\n",
       "      <td>0.470557</td>\n",
       "      <td>0.216086</td>\n",
       "      <td>0.272895</td>\n",
       "    </tr>\n",
       "    <tr>\n",
       "      <th>118338</th>\n",
       "      <td>-0.046811</td>\n",
       "      <td>-0.113371</td>\n",
       "      <td>1.184960</td>\n",
       "      <td>0.167625</td>\n",
       "      <td>0.468725</td>\n",
       "      <td>0.580127</td>\n",
       "      <td>-0.281259</td>\n",
       "      <td>-0.502450</td>\n",
       "      <td>0.023871</td>\n",
       "      <td>-0.085029</td>\n",
       "      <td>...</td>\n",
       "      <td>-0.484270</td>\n",
       "      <td>-0.072716</td>\n",
       "      <td>-0.216591</td>\n",
       "      <td>-0.617740</td>\n",
       "      <td>0.148533</td>\n",
       "      <td>0.089864</td>\n",
       "      <td>0.147990</td>\n",
       "      <td>0.120958</td>\n",
       "      <td>-0.014075</td>\n",
       "      <td>0.019256</td>\n",
       "    </tr>\n",
       "    <tr>\n",
       "      <th>249083</th>\n",
       "      <td>-0.293440</td>\n",
       "      <td>0.817068</td>\n",
       "      <td>2.134613</td>\n",
       "      <td>-0.015214</td>\n",
       "      <td>-1.761274</td>\n",
       "      <td>0.090449</td>\n",
       "      <td>0.574299</td>\n",
       "      <td>-0.547788</td>\n",
       "      <td>0.193235</td>\n",
       "      <td>-0.272219</td>\n",
       "      <td>...</td>\n",
       "      <td>0.042406</td>\n",
       "      <td>-0.186343</td>\n",
       "      <td>0.194385</td>\n",
       "      <td>0.700188</td>\n",
       "      <td>-0.051293</td>\n",
       "      <td>0.123477</td>\n",
       "      <td>0.384226</td>\n",
       "      <td>-0.101940</td>\n",
       "      <td>-0.024628</td>\n",
       "      <td>-0.058516</td>\n",
       "    </tr>\n",
       "  </tbody>\n",
       "</table>\n",
       "<p>5 rows × 30 columns</p>\n",
       "</div>"
      ],
      "text/plain": [
       "        scaled_amount  scaled_time        V1        V2        V3        V4  \\\n",
       "132930       1.450430    -0.053032  0.904067 -0.751663  1.233878  1.505830   \n",
       "14285       -0.095857    -0.697095  1.169427  0.627229  0.657882  2.492571   \n",
       "278454      -0.293440     0.981485 -0.118779  0.823002 -0.272465 -0.170451   \n",
       "118338      -0.046811    -0.113371  1.184960  0.167625  0.468725  0.580127   \n",
       "249083      -0.293440     0.817068  2.134613 -0.015214 -1.761274  0.090449   \n",
       "\n",
       "              V5        V6        V7        V8  ...       V19       V20  \\\n",
       "132930 -0.800243  1.543892 -0.947923  0.470212  ...  0.862968  0.163142   \n",
       "14285  -0.118151 -0.559891  0.240836 -0.157699  ... -0.917161 -0.102392   \n",
       "278454  1.132897 -1.164703  0.894431 -0.249489  ... -0.298457 -0.020675   \n",
       "118338 -0.281259 -0.502450  0.023871 -0.085029  ... -0.484270 -0.072716   \n",
       "249083  0.574299 -0.547788  0.193235 -0.272219  ...  0.042406 -0.186343   \n",
       "\n",
       "             V21       V22       V23       V24       V25       V26       V27  \\\n",
       "132930 -0.014294  0.208800 -0.364486 -0.769923  0.664052 -0.184455  0.086328   \n",
       "14285  -0.181962 -0.587933  0.073176  0.365952  0.363419 -0.190415 -0.011471   \n",
       "278454  0.156651  0.735051 -0.127435 -0.118536 -0.774914  0.470557  0.216086   \n",
       "118338 -0.216591 -0.617740  0.148533  0.089864  0.147990  0.120958 -0.014075   \n",
       "249083  0.194385  0.700188 -0.051293  0.123477  0.384226 -0.101940 -0.024628   \n",
       "\n",
       "             V28  \n",
       "132930  0.038578  \n",
       "14285   0.028100  \n",
       "278454  0.272895  \n",
       "118338  0.019256  \n",
       "249083 -0.058516  \n",
       "\n",
       "[5 rows x 30 columns]"
      ]
     },
     "execution_count": 9,
     "metadata": {},
     "output_type": "execute_result"
    }
   ],
   "source": [
    "X_train.head()"
   ]
  },
  {
   "cell_type": "markdown",
   "metadata": {},
   "source": [
    "# Quick implementation with logisitc regression"
   ]
  },
  {
   "cell_type": "code",
   "execution_count": 10,
   "metadata": {},
   "outputs": [
    {
     "name": "stdout",
     "output_type": "stream",
     "text": [
      "\n",
      "AUC score of regularization with L2 of C=0.001 is: 0.770786440015631\n",
      "F1 score of regularization with L2 of C=0.001 is: 0.6782608695652174\n",
      "\n",
      "AUC score of regularization with L2 of C=0.01 is: 0.7985407711345578\n",
      "F1 score of regularization with L2 of C=0.01 is: 0.7107438016528925\n",
      "\n",
      "AUC score of regularization with L2 of C=0.1 is: 0.8193858277973166\n",
      "F1 score of regularization with L2 of C=0.1 is: 0.7479674796747967\n",
      "\n",
      "AUC score of regularization with L2 of C=1 is: 0.826330272241761\n",
      "F1 score of regularization with L2 of C=1 is: 0.7580645161290323\n",
      "\n",
      "AUC score of regularization with L2 of C=10 is: 0.826330272241761\n",
      "F1 score of regularization with L2 of C=10 is: 0.7580645161290323\n"
     ]
    }
   ],
   "source": [
    "# quickly implement to have a intuition of model performance\n",
    "\n",
    "for c in [0.001,0.01,0.1,1,10]:\n",
    "    log_reg = LogisticRegression(C=c, solver='lbfgs',penalty=\"l2\",max_iter=1500).fit(X_train,y_train)\n",
    "    print(\"\\nAUC score of regularization with L2 of C=\" + str(c) +\" is:\", roc_auc_score(y_test,log_reg.predict(X_test)))\n",
    "    print(\"F1 score of regularization with L2 of C=\" + str(c) +\" is:\", f1_score(y_test,log_reg.predict(X_test)))"
   ]
  },
  {
   "cell_type": "code",
   "execution_count": 11,
   "metadata": {},
   "outputs": [
    {
     "data": {
      "image/png": "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\n",
      "text/plain": [
       "<Figure size 432x288 with 1 Axes>"
      ]
     },
     "metadata": {
      "needs_background": "light"
     },
     "output_type": "display_data"
    }
   ],
   "source": [
    "precision, recall, thresholds = precision_recall_curve(y_test,log_reg.predict_proba(X_test)[:,1])\n",
    "pr_curve = plt.plot(precision, recall, label ='Precision-Recall Curve')"
   ]
  },
  {
   "cell_type": "markdown",
   "metadata": {},
   "source": [
    "\n",
    "<font color='green' size=3>From above precision recall cuve we see that with 80% AUC, a well-perform model would get around **0.8 recall and 0.8 precision**<font>\n"
   ]
  },
  {
   "cell_type": "markdown",
   "metadata": {},
   "source": [
    "# Resample\n",
    "<font color='green'>For the dataset is extremely imbalance, it's pushing the model to predict as more 0 as possible. To avoid such problem, we may resample the dataset. There're two ways of resampling: upsamle and undersample.<br>\n",
    "By upsample we mean to create more positive datasets when training the model and vice versa for undersampling.\n",
    "**Here,We try to use SMOTE technique to upsample the training set with synthetic positive examples.<font>**"
   ]
  },
  {
   "cell_type": "code",
   "execution_count": 12,
   "metadata": {},
   "outputs": [],
   "source": [
    "from imblearn.over_sampling import SMOTE\n",
    "from collections import Counter"
   ]
  },
  {
   "cell_type": "code",
   "execution_count": 13,
   "metadata": {},
   "outputs": [],
   "source": [
    "sm = SMOTE(sampling_strategy='minority')\n",
    "X_smote, y_smote = sm.fit_sample(X_train, y_train)"
   ]
  },
  {
   "cell_type": "code",
   "execution_count": 32,
   "metadata": {},
   "outputs": [
    {
     "data": {
      "text/plain": [
       "Counter({0: 241665, 1: 241665})"
      ]
     },
     "execution_count": 32,
     "metadata": {},
     "output_type": "execute_result"
    }
   ],
   "source": [
    "Counter(y_smote)"
   ]
  },
  {
   "cell_type": "markdown",
   "metadata": {},
   "source": [
    "**Now we have positive and negative sample with same amount.<br> So let's train a logistic regression model another time to check if there's improvements.**"
   ]
  },
  {
   "cell_type": "code",
   "execution_count": 15,
   "metadata": {},
   "outputs": [
    {
     "name": "stdout",
     "output_type": "stream",
     "text": [
      "\n",
      "AUC score of regularization with L2 of C=0.001 is: 0.9329086882896965\n",
      "F1 score of regularization with L2 of C=0.001 is: 0.11428571428571428\n",
      "\n",
      "AUC score of regularization with L2 of C=0.01 is: 0.9323811384655464\n",
      "F1 score of regularization with L2 of C=0.01 is: 0.10987124463519314\n",
      "\n",
      "AUC score of regularization with L2 of C=0.1 is: 0.9253780773739743\n",
      "F1 score of regularization with L2 of C=0.1 is: 0.10778443113772457\n",
      "\n",
      "AUC score of regularization with L2 of C=1 is: 0.925307737397421\n",
      "F1 score of regularization with L2 of C=1 is: 0.1072340425531915\n"
     ]
    }
   ],
   "source": [
    "for c in [0.001,0.01,0.1,1]:\n",
    "    log_reg_s = LogisticRegression(C=c, solver='lbfgs',penalty=\"l2\",max_iter=1500).fit(X_smote,y_smote)\n",
    "    print(\"\\nAUC score of regularization with L2 of C=\" + str(c) +\" is:\", roc_auc_score(y_test,log_reg_s.predict(X_test)))\n",
    "    print(\"F1 score of regularization with L2 of C=\" + str(c) +\" is:\", f1_score(y_test,log_reg_s.predict(X_test)))"
   ]
  },
  {
   "cell_type": "code",
   "execution_count": 16,
   "metadata": {},
   "outputs": [
    {
     "data": {
      "image/png": "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\n",
      "text/plain": [
       "<Figure size 432x288 with 1 Axes>"
      ]
     },
     "metadata": {
      "needs_background": "light"
     },
     "output_type": "display_data"
    }
   ],
   "source": [
    "plt.figure()\n",
    "precision, recall, thresholds = precision_recall_curve(y_test,log_reg_s.predict_proba(X_test)[:,1])\n",
    "pr_curve = plt.plot(precision, recall, label ='Precision-Recall Curve')"
   ]
  },
  {
   "cell_type": "markdown",
   "metadata": {},
   "source": [
    "<font color='green'>We have seen that **AUC score has improved significantly to around 90%** although the above PRcurve looks similar as before.<br>\n",
    "This implies that we can reset the prediction threshold to achieve a better f1 score.\n",
    "To explore the threshold we can do below raw test:<font>"
   ]
  },
  {
   "cell_type": "code",
   "execution_count": 17,
   "metadata": {},
   "outputs": [
    {
     "name": "stdout",
     "output_type": "stream",
     "text": [
      "\n",
      "confusion matrix:\n",
      " [[42607    43]\n",
      " [   13    59]]\n",
      "f1 is: 0.67816091954023\n",
      "recall is: 0.8194444444444444\n",
      "AUC is: 0.9092181190569233\n",
      "\n",
      "confusion matrix:\n",
      " [[42628    22]\n",
      " [   14    58]]\n",
      "f1 is: 0.7631578947368423\n",
      "recall is: 0.8055555555555556\n",
      "AUC is: 0.9025198645304155\n",
      "\n",
      "confusion matrix:\n",
      " [[42637    13]\n",
      " [   14    58]]\n",
      "f1 is: 0.8111888111888113\n",
      "recall is: 0.8055555555555556\n",
      "AUC is: 0.9026253744952455\n",
      "\n",
      "confusion matrix:\n",
      " [[42642     8]\n",
      " [   15    57]]\n",
      "f1 is: 0.832116788321168\n",
      "recall is: 0.7916666666666666\n",
      "AUC is: 0.8957395466979289\n",
      "\n",
      "confusion matrix:\n",
      " [[42642     8]\n",
      " [   15    57]]\n",
      "f1 is: 0.832116788321168\n",
      "recall is: 0.7916666666666666\n",
      "AUC is: 0.8957395466979289\n"
     ]
    }
   ],
   "source": [
    "thresholds = [0.99,0.999,0.9999,0.99999,0.999999]\n",
    "for i in thresholds:\n",
    "    print('\\nconfusion matrix:\\n',confusion_matrix(y_test,log_reg_s.predict_proba(X_test)[:,1]>i))\n",
    "    print('f1 is:',f1_score(y_test,log_reg_s.predict_proba(X_test)[:,1]>i))\n",
    "    print('recall is:',recall_score(y_test,log_reg_s.predict_proba(X_test)[:,1]>i))\n",
    "    print('AUC is:',roc_auc_score(y_test,log_reg_s.predict_proba(X_test)[:,1]>i))"
   ]
  },
  {
   "cell_type": "markdown",
   "metadata": {},
   "source": [
    "<font color='green'>**From above search we see that increasing the threshold improves model performance in terms of F1 score.<br>\n",
    "Such improvement basically comes from increasing the precision while hurting just a little recall. In a business context, a higher precision in this case means that every time the model predicts fraud, it is more likely that it is really a fraud.<br>\n",
    "However a higer precision means that the recall is lower. In a business context, it means that among all the fraud cases, it is less likely for the model to detect.**<br><font>"
   ]
  },
  {
   "cell_type": "code",
   "execution_count": 18,
   "metadata": {},
   "outputs": [
    {
     "data": {
      "image/png": "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\n",
      "text/plain": [
       "<Figure size 432x288 with 1 Axes>"
      ]
     },
     "metadata": {
      "needs_background": "light"
     },
     "output_type": "display_data"
    }
   ],
   "source": [
    "plt.figure()\n",
    "precision, recall, thresholds = precision_recall_curve(y_test,log_reg_s.predict_proba(X_test)[:,1]>0.99999)\n",
    "pr_curve = plt.plot(precision, recall, label ='Precision-Recall Curve')"
   ]
  },
  {
   "cell_type": "markdown",
   "metadata": {},
   "source": [
    "**By increasing the threshold we signifiantly *expand* our PRcurve**"
   ]
  },
  {
   "cell_type": "markdown",
   "metadata": {},
   "source": [
    "# Stratified datasets\n",
    "<br>\n",
    "<font color='green'>The datasets might not distributed evenly, which means that examples with similar features might cluster together and makes out model to overfit particular kinds of examples.<br>\n",
    "To avoid that we may stratified and shuffle our datasets.<font>"
   ]
  },
  {
   "cell_type": "code",
   "execution_count": 45,
   "metadata": {},
   "outputs": [
    {
     "name": "stdout",
     "output_type": "stream",
     "text": [
      "Train: [     0      1      2 ... 284804 284805 284806] Test: [     3      7     11 ... 284793 284795 284799]\n",
      "Train: [     0      1      2 ... 284803 284804 284806] Test: [     8      9     10 ... 284791 284792 284805]\n",
      "Train: [     0      2      3 ... 284804 284805 284806] Test: [     1     15     20 ... 284786 284796 284800]\n",
      "Train: [     0      1      2 ... 284803 284805 284806] Test: [     4      6     14 ... 284798 284801 284804]\n",
      "Train: [     1      3      4 ... 284801 284804 284805] Test: [     0      2      5 ... 284802 284803 284806]\n",
      "\n",
      "Label Distributions: \n",
      "[0.99827076 0.00172924]\n",
      "[0.99827952 0.00172048]\n",
      "\n",
      "shape of original_Xtrain: (227846, 30)\n",
      "shape of original_Xtest: (56961, 30)\n",
      "shape of original_ytrain: (227846,)\n",
      "shape of original_ytest: (56961,)\n"
     ]
    }
   ],
   "source": [
    "from sklearn.model_selection import KFold, StratifiedKFold\n",
    "\n",
    "sss = StratifiedKFold(n_splits=5, random_state=None, shuffle=True)\n",
    "\n",
    "for train_index, test_index in sss.split(X, y):\n",
    "    print(\"Train:\", train_index, \"Test:\", test_index)\n",
    "    original_Xtrain, original_Xtest = X.iloc[train_index], X.iloc[test_index]\n",
    "    original_ytrain, original_ytest = y.iloc[train_index], y.iloc[test_index]\n",
    "\n",
    "\n",
    "# Turn into an array\n",
    "original_Xtrain = original_Xtrain.values\n",
    "original_Xtest = original_Xtest.values\n",
    "original_ytrain = original_ytrain.values\n",
    "original_ytest = original_ytest.values\n",
    "\n",
    "train_unique_label, train_counts_label = np.unique(original_ytrain, return_counts=True)\n",
    "test_unique_label, test_counts_label = np.unique(original_ytest, return_counts=True)\n",
    "\n",
    "print('\\nLabel Distributions: ')\n",
    "print(train_counts_label/ len(original_ytrain))\n",
    "print(test_counts_label/ len(original_ytest))\n",
    "\n",
    "print(\"\\nshape of original_Xtrain:\", original_Xtrain.shape)\n",
    "print(\"shape of original_Xtest:\", original_Xtest.shape)\n",
    "print(\"shape of original_ytrain:\", original_ytrain.shape)\n",
    "print(\"shape of original_ytest:\", original_ytest.shape)"
   ]
  },
  {
   "cell_type": "code",
   "execution_count": 46,
   "metadata": {},
   "outputs": [
    {
     "data": {
      "text/plain": [
       "Counter({0: 227452, 1: 227452})"
      ]
     },
     "execution_count": 46,
     "metadata": {},
     "output_type": "execute_result"
    }
   ],
   "source": [
    "sm = SMOTE(sampling_strategy='minority')\n",
    "X_smote_s, y_smote_s = sm.fit_sample(original_Xtrain, original_ytrain)\n",
    "Counter(y_smote_s)"
   ]
  },
  {
   "cell_type": "code",
   "execution_count": 47,
   "metadata": {},
   "outputs": [
    {
     "name": "stdout",
     "output_type": "stream",
     "text": [
      "\n",
      "AUC score of regularization with L2 of C=0.001 is: 0.9421758239549622\n",
      "F1 score of regularization with L2 of C=0.001 is: 0.1155094094743673\n",
      "\n",
      "AUC score of regularization with L2 of C=0.01 is: 0.9466095919049258\n",
      "F1 score of regularization with L2 of C=0.01 is: 0.11124845488257105\n",
      "\n",
      "AUC score of regularization with L2 of C=0.1 is: 0.9466183849689568\n",
      "F1 score of regularization with L2 of C=0.1 is: 0.11131725417439703\n",
      "\n",
      "AUC score of regularization with L2 of C=1 is: 0.9466271780329879\n",
      "F1 score of regularization with L2 of C=1 is: 0.11138613861386139\n"
     ]
    }
   ],
   "source": [
    "for c in [0.001,0.01,0.1,1]:\n",
    "    log_reg_sn = LogisticRegression(C=c, solver='lbfgs',penalty=\"l2\",max_iter=1500).fit(X_smote_s,y_smote_s)\n",
    "    print(\"\\nAUC score of regularization with L2 of C=\" + str(c) +\" is:\", roc_auc_score(original_ytest,log_reg_sn.predict(original_Xtest)))\n",
    "    print(\"F1 score of regularization with L2 of C=\" + str(c) +\" is:\", f1_score(original_ytest,log_reg_sn.predict(original_Xtest)))"
   ]
  },
  {
   "cell_type": "markdown",
   "metadata": {},
   "source": [
    "**We can see that the performance does not change a lot.**"
   ]
  },
  {
   "cell_type": "code",
   "execution_count": 48,
   "metadata": {},
   "outputs": [
    {
     "data": {
      "image/png": "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\n",
      "text/plain": [
       "<Figure size 432x288 with 1 Axes>"
      ]
     },
     "metadata": {
      "needs_background": "light"
     },
     "output_type": "display_data"
    }
   ],
   "source": [
    "plt.figure()\n",
    "precision, recall, thresholds = precision_recall_curve(original_ytest,log_reg_sn.predict_proba(original_Xtest)[:,1])\n",
    "pr_curve = plt.plot(precision, recall, label ='Precision-Recall Curve')"
   ]
  },
  {
   "cell_type": "markdown",
   "metadata": {},
   "source": [
    "# Shallow neural network with Keras\n",
    "<br>\n",
    "<font color='green'>At last we may try a more complicated models such as neural network. To begin we may use Keras to quickly build a simple network to have a try.<font>"
   ]
  },
  {
   "cell_type": "code",
   "execution_count": 23,
   "metadata": {},
   "outputs": [
    {
     "name": "stdout",
     "output_type": "stream",
     "text": [
      "WARNING:tensorflow:From /Applications/anaconda3/lib/python3.7/site-packages/tensorflow/python/ops/init_ops.py:1251: calling VarianceScaling.__init__ (from tensorflow.python.ops.init_ops) with dtype is deprecated and will be removed in a future version.\n",
      "Instructions for updating:\n",
      "Call initializer instance with the dtype argument instead of passing it to the constructor\n",
      "Train on 363923 samples, validate on 90981 samples\n",
      "Epoch 1/10\n",
      "363923/363923 - 11s - loss: 0.0665 - acc: 0.9866 - val_loss: 0.0344 - val_acc: 0.9977\n",
      "Epoch 2/10\n",
      "363923/363923 - 10s - loss: 0.0273 - acc: 0.9972 - val_loss: 0.0242 - val_acc: 0.9993\n",
      "Epoch 3/10\n",
      "363923/363923 - 11s - loss: 0.0217 - acc: 0.9976 - val_loss: 0.0197 - val_acc: 0.9999\n",
      "Epoch 4/10\n",
      "363923/363923 - 12s - loss: 0.0192 - acc: 0.9978 - val_loss: 0.0138 - val_acc: 1.0000\n",
      "Epoch 5/10\n",
      "363923/363923 - 11s - loss: 0.0178 - acc: 0.9980 - val_loss: 0.0206 - val_acc: 0.9968\n",
      "Epoch 6/10\n",
      "363923/363923 - 11s - loss: 0.0173 - acc: 0.9980 - val_loss: 0.0155 - val_acc: 0.9997\n",
      "Epoch 7/10\n",
      "363923/363923 - 11s - loss: 0.0162 - acc: 0.9982 - val_loss: 0.0235 - val_acc: 0.9969\n",
      "Epoch 8/10\n",
      "363923/363923 - 10s - loss: 0.0161 - acc: 0.9982 - val_loss: 0.0134 - val_acc: 0.9991\n",
      "Epoch 9/10\n",
      "363923/363923 - 10s - loss: 0.0154 - acc: 0.9983 - val_loss: 0.0183 - val_acc: 0.9983\n",
      "Epoch 10/10\n",
      "363923/363923 - 10s - loss: 0.0146 - acc: 0.9984 - val_loss: 0.0138 - val_acc: 0.9988\n"
     ]
    },
    {
     "data": {
      "text/plain": [
       "<tensorflow.python.keras.callbacks.History at 0x1a42720358>"
      ]
     },
     "execution_count": 23,
     "metadata": {},
     "output_type": "execute_result"
    }
   ],
   "source": [
    "n_inputs = X_smote_s.shape[1]\n",
    "model_regularize = keras.Sequential([\n",
    "    keras.layers.Dense(units=n_inputs, input_shape=(n_inputs,),activation='relu',kernel_regularizer=keras.regularizers.l2(0.001)),\n",
    "    keras.layers.Dense(32, activation='relu',kernel_regularizer=keras.regularizers.l2(0.001)),\n",
    "    keras.layers.Dense(2, activation='softmax')\n",
    "])\n",
    "\n",
    "model_regularize.compile(optimizer='adam',\n",
    "              loss='sparse_categorical_crossentropy',\n",
    "              metrics=['accuracy'])\n",
    "\n",
    "model_regularize.fit(X_smote_s, y_smote_s,validation_split=0.2, batch_size=64, epochs=10, shuffle=True, verbose=2)"
   ]
  },
  {
   "cell_type": "code",
   "execution_count": 24,
   "metadata": {},
   "outputs": [],
   "source": [
    "nn_prediction = model_regularize.predict(original_Xtest, batch_size=200, verbose=0)\n",
    "nnclass_prediction = model_regularize.predict_classes(original_Xtest, batch_size=200, verbose=0)"
   ]
  },
  {
   "cell_type": "code",
   "execution_count": 25,
   "metadata": {},
   "outputs": [],
   "source": [
    "import itertools\n",
    "\n",
    "# Create a confusion matrix\n",
    "def plot_confusion_matrix(cm, classes,\n",
    "                          normalize=False,\n",
    "                          title='Confusion matrix',\n",
    "                          cmap=plt.cm.Blues):\n",
    "    \"\"\"\n",
    "    This function prints and plots the confusion matrix.\n",
    "    Normalization can be applied by setting `normalize=True`.\n",
    "    \"\"\"\n",
    "    if normalize:\n",
    "        cm = cm.astype('float') / cm.sum(axis=1)[:, np.newaxis]\n",
    "        print(\"Normalized confusion matrix\")\n",
    "    else:\n",
    "        print('Confusion matrix, without normalization')\n",
    "\n",
    "    print(cm)\n",
    "\n",
    "    plt.imshow(cm, interpolation='nearest', cmap=cmap)\n",
    "    plt.title(title, fontsize=14)\n",
    "    plt.colorbar()\n",
    "    tick_marks = np.arange(len(classes))\n",
    "    plt.xticks(tick_marks, classes, rotation=45)\n",
    "    plt.yticks(tick_marks, classes)\n",
    "\n",
    "    fmt = '.2f' if normalize else 'd'\n",
    "    thresh = cm.max() / 2.\n",
    "    for i, j in itertools.product(range(cm.shape[0]), range(cm.shape[1])):\n",
    "        plt.text(j, i, format(cm[i, j], fmt),\n",
    "                 horizontalalignment=\"center\",\n",
    "                 color=\"white\" if cm[i, j] > thresh else \"black\")\n",
    "\n",
    "    plt.tight_layout()\n",
    "    plt.ylabel('True label')\n",
    "    plt.xlabel('Predicted label')"
   ]
  },
  {
   "cell_type": "code",
   "execution_count": 27,
   "metadata": {},
   "outputs": [
    {
     "name": "stdout",
     "output_type": "stream",
     "text": [
      "Confusion matrix, without normalization\n",
      "[[56827    36]\n",
      " [   19    79]]\n"
     ]
    },
    {
     "data": {
      "image/png": "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\n",
      "text/plain": [
       "<Figure size 432x288 with 2 Axes>"
      ]
     },
     "metadata": {
      "needs_background": "light"
     },
     "output_type": "display_data"
    }
   ],
   "source": [
    "undersample_cm = confusion_matrix(original_ytest, nnclass_prediction)\n",
    "actual_cm = confusion_matrix(original_ytest, original_ytest)\n",
    "labels = ['No Fraud', 'Fraud']\n",
    "\n",
    "plt.figure()\n",
    "plot_confusion_matrix(undersample_cm, labels, title=\"Random UnderSample \\n Confusion Matrix\", cmap=plt.cm.Reds)\n"
   ]
  },
  {
   "cell_type": "markdown",
   "metadata": {},
   "source": [
    "<font color='green'>**From above confusion matrix we can see that this shallow neural network does not outperform logistic regression.<br>\n",
    "This implies that our dataset does not include difficult non-linear features for the model to learn.**<font>"
   ]
  },
  {
   "cell_type": "code",
   "execution_count": 42,
   "metadata": {},
   "outputs": [
    {
     "data": {
      "text/plain": [
       "0.8314606741573034"
      ]
     },
     "execution_count": 42,
     "metadata": {},
     "output_type": "execute_result"
    }
   ],
   "source": [
    "f1_score(original_ytest,model_regularize.predict_proba(original_Xtest)[:,1]>0.995)"
   ]
  },
  {
   "cell_type": "code",
   "execution_count": 41,
   "metadata": {},
   "outputs": [
    {
     "data": {
      "image/png": "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\n",
      "text/plain": [
       "<Figure size 432x288 with 1 Axes>"
      ]
     },
     "metadata": {
      "needs_background": "light"
     },
     "output_type": "display_data"
    }
   ],
   "source": [
    "plt.figure()\n",
    "precision, recall, thresholds = precision_recall_curve(original_ytest,model_regularize.predict_proba(original_Xtest)[:,1]>0.995)\n",
    "pr_curve = plt.plot(precision, recall, label ='Precision-Recall Curve')"
   ]
  },
  {
   "cell_type": "markdown",
   "metadata": {},
   "source": [
    "The PRcurve is much smoother than that of logistic regression.<br>\n",
    "From below model output we see that neural network is more sure of its predictions."
   ]
  },
  {
   "cell_type": "code",
   "execution_count": 37,
   "metadata": {},
   "outputs": [
    {
     "data": {
      "text/plain": [
       "array([[0.003, 0.997],\n",
       "       [0.001, 0.999],\n",
       "       [1.   , 0.   ],\n",
       "       ...,\n",
       "       [1.   , 0.   ],\n",
       "       [1.   , 0.   ],\n",
       "       [1.   , 0.   ]], dtype=float32)"
      ]
     },
     "execution_count": 37,
     "metadata": {},
     "output_type": "execute_result"
    }
   ],
   "source": [
    "np.round(model_regularize.predict_proba(original_Xtest),3)"
   ]
  },
  {
   "cell_type": "markdown",
   "metadata": {},
   "source": [
    "# Try Anomaly Detection\n",
    "<br>\n",
    "<font color='green'>When the positive training example is rare or there’s no particular patterns to detect positive examples, supervised learning algorithms are difficult to train. Then comes anomaly detection.\n",
    "<br><br>\n",
    "Anomaly detection generally uses Gaussian distribution to find the mean and variance of normal examples. Then we use a validation set with that mean and variance to calculate the probability. Then we try the set a probability threshold so that each calculated probability below that threshold would be predicted as anomaly examples.<font>"
   ]
  },
  {
   "cell_type": "code",
   "execution_count": 10,
   "metadata": {},
   "outputs": [
    {
     "name": "stdout",
     "output_type": "stream",
     "text": [
      "(492, 31)\n",
      "(284315, 31)\n"
     ]
    }
   ],
   "source": [
    "df_p = df.loc[df['Class'] == 1]\n",
    "df_n = df.loc[df['Class'] == 0]\n",
    "print(df_p.shape)\n",
    "print(df_n.shape)"
   ]
  },
  {
   "cell_type": "markdown",
   "metadata": {},
   "source": [
    "We only use nagative(non-fraud) examples to calculate the mean and variance.<br>\n",
    "Thus the training set will only contains nagative examples."
   ]
  },
  {
   "cell_type": "code",
   "execution_count": 17,
   "metadata": {},
   "outputs": [
    {
     "name": "stdout",
     "output_type": "stream",
     "text": [
      "(284315, 30)\n",
      "(42722, 30)\n"
     ]
    }
   ],
   "source": [
    "X_train_anomaly = df_n.iloc[:,:-1]\n",
    "y_train_anomaly = df_n.iloc[:,-1]\n",
    "\n",
    "Xn = df_n.iloc[0:1000,:-1]\n",
    "yn = df_n.iloc[0:1000,-1]\n",
    "Xp = df_p.iloc[:,:-1]\n",
    "yp = df_p.iloc[:,-1]\n",
    "\n",
    "Xtest = pd.concat([Xn,Xp])\n",
    "ytest = pd.concat([yn,yp])\n",
    "\n",
    "print(X_train_anomaly.shape)\n",
    "print(X_test.shape)\n"
   ]
  },
  {
   "cell_type": "code",
   "execution_count": 12,
   "metadata": {},
   "outputs": [],
   "source": [
    "def estimateGaussian(X):\n",
    "    \"\"\"\n",
    "     This function estimates the parameters of a Gaussian distribution using the data in X\n",
    "    \"\"\"\n",
    "    \n",
    "    m = X.shape[0]\n",
    "    \n",
    "    #compute mean\n",
    "    sum_ = np.sum(X,axis=0)\n",
    "    mu = 1/m *sum_\n",
    "    \n",
    "    # compute variance\n",
    "    var = 1/m * np.sum((X - mu)**2,axis=0)\n",
    "    \n",
    "    return mu,var\n",
    "\n",
    "mu, sigma2 = estimateGaussian(X_train_anomaly.values)"
   ]
  },
  {
   "cell_type": "code",
   "execution_count": 13,
   "metadata": {},
   "outputs": [
    {
     "name": "stdout",
     "output_type": "stream",
     "text": [
      "(30,)\n",
      "(30,)\n"
     ]
    }
   ],
   "source": [
    "print(mu.shape)\n",
    "print(sigma2.shape)"
   ]
  },
  {
   "cell_type": "code",
   "execution_count": 14,
   "metadata": {},
   "outputs": [],
   "source": [
    "def multivariateGaussian(X, mu, sigma2):\n",
    "    \"\"\"\n",
    "    Computes the probability density function of the multivariate gaussian distribution.\n",
    "    \"\"\"\n",
    "    k = len(mu)\n",
    "    \n",
    "    sigma2=np.diag(sigma2)\n",
    "    X = X - mu.T\n",
    "    p = 1/((2*np.pi)**(k/2)*(np.linalg.det(sigma2)**0.5))* np.exp(-0.5* np.sum(X @ np.linalg.pinv(sigma2) * X,axis=1))\n",
    "    return p\n",
    "\n",
    "p = multivariateGaussian(X_train_anomaly.values, mu, sigma2)"
   ]
  },
  {
   "cell_type": "code",
   "execution_count": 15,
   "metadata": {},
   "outputs": [
    {
     "data": {
      "text/plain": [
       "(284315,)"
      ]
     },
     "execution_count": 15,
     "metadata": {},
     "output_type": "execute_result"
    }
   ],
   "source": [
    "p.shape"
   ]
  },
  {
   "cell_type": "code",
   "execution_count": 18,
   "metadata": {},
   "outputs": [
    {
     "name": "stdout",
     "output_type": "stream",
     "text": [
      "Best epsilon found using cross-validation: 1.8751619391371835e-16\n",
      "Best F1 on Cross Validation Set: 0.7116843702579666\n",
      "Recall score: 1.0\n",
      "Precision score: 0.3299798792756539\n",
      "Outliers found: 826\n"
     ]
    },
    {
     "name": "stderr",
     "output_type": "stream",
     "text": [
      "/Applications/anaconda3/lib/python3.7/site-packages/ipykernel_launcher.py:19: RuntimeWarning: invalid value encountered in long_scalars\n"
     ]
    }
   ],
   "source": [
    "def selectThreshold(yval, pval):\n",
    "    \"\"\"\n",
    "    Find the best threshold (epsilon) to use for selecting outliers\n",
    "    \"\"\"\n",
    "    best_epi = 0\n",
    "    best_F1 = 0\n",
    "    \n",
    "    stepsize = (max(pval) -min(pval))/1000\n",
    "    \n",
    "    epi_range = np.arange(pval.min(),pval.max(),stepsize)\n",
    "    \n",
    "    for epi in epi_range:\n",
    "        predictions = (pval<epi)[:,np.newaxis]\n",
    "        tp = np.sum(predictions[yval==1]==1)\n",
    "        fp = np.sum(predictions[yval==0]==1)\n",
    "        fn = np.sum(predictions[yval==1]==0)\n",
    "        \n",
    "        # compute precision, recall and F1\n",
    "        prec = tp/(tp+fp)\n",
    "        rec = tp/(tp+fn)\n",
    "        \n",
    "        F1 = (2*prec*rec)/(prec+rec)\n",
    "        \n",
    "        if F1 > best_F1:\n",
    "            best_F1 =F1\n",
    "            best_epi = epi\n",
    "        \n",
    "    return best_epi, best_F1, prec, rec\n",
    "\n",
    "pval = multivariateGaussian(Xtest.values, mu, sigma2)\n",
    "epsilon, F1, prec, rec = selectThreshold(ytest.values, pval)\n",
    "print(\"Best epsilon found using cross-validation:\",epsilon)\n",
    "print(\"Best F1 on Cross Validation Set:\",F1)\n",
    "print(\"Recall score:\",rec)\n",
    "print(\"Precision score:\",prec)\n",
    "print(\"Outliers found:\",sum(pval<epsilon))"
   ]
  },
  {
   "cell_type": "markdown",
   "metadata": {},
   "source": [
    "<font color='green'>**It turns out that anomaly detection was able to get a pretty well recall so that all fraud cases would be detected and the F1 of 71% is fairly well**<font>"
   ]
  },
  {
   "cell_type": "markdown",
   "metadata": {},
   "source": [
    "# Conclusion\n",
    "<br>\n",
    "In this credit card fraud dataset where only **0.0017** positive examples, we have used typical supervised learning algorithm like logistic regression and deep learning algorithm of neural network to detect credit card frauds.<br>\n",
    "<br>\n",
    "With oversampling techniqueso of SMOTE we have achieve a F1 score of a little more than **80%** with AUC around 93%.<br>\n",
    "<br>\n",
<<<<<<< HEAD
    "With anomaly detection we easily achieve a recall score of 100% while the F1 is 71%. <font color='green'>Anomaly detection is well suited in situations where positive training examples are not enough and there's no particular patterns of postive examples. I think that why it works so well in this case.</font>"
=======
    "With anomaly detection we easily achieve a recall score of 100% while the F1 is 71%. <font color='green'>Anomaly detection is well suited in situations where positive training examples are not enough and there's no particular patterns of postive examples. I think that why it works so well in this case.<font>"
>>>>>>> 952140d3ec0eef5f4d8c9b7f2f9dd1f15001706f
   ]
  },
  {
   "cell_type": "code",
   "execution_count": null,
   "metadata": {},
   "outputs": [],
   "source": []
  }
 ],
 "metadata": {
  "kernelspec": {
   "display_name": "Python 3",
   "language": "python",
   "name": "python3"
  },
  "language_info": {
   "codemirror_mode": {
    "name": "ipython",
    "version": 3
   },
   "file_extension": ".py",
   "mimetype": "text/x-python",
   "name": "python",
   "nbconvert_exporter": "python",
   "pygments_lexer": "ipython3",
   "version": "3.7.3"
  },
  "toc": {
   "base_numbering": 1,
   "nav_menu": {},
   "number_sections": true,
   "sideBar": true,
   "skip_h1_title": false,
   "title_cell": "Table of Contents",
   "title_sidebar": "Contents",
   "toc_cell": false,
   "toc_position": {},
   "toc_section_display": true,
   "toc_window_display": false
  }
 },
 "nbformat": 4,
 "nbformat_minor": 2
}
